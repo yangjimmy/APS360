{
 "cells": [
  {
   "cell_type": "markdown",
   "metadata": {
    "colab_type": "text",
    "id": "3sxa8YxCbzGL"
   },
   "source": [
    "# Lab 1. PyTorch and ANNs\n",
    "\n",
    "**Deadline**: September 22, 11:59pm.\n",
    "\n",
    "**Late Penalty**: There is a penalty-free grace period of one hour past the deadline. Any work that is submitted between 1 hour and 24 hours past the deadline will receive a 20% grade deduction. No other late work is accepted. Quercus submission time will be used, not your local computer time. You can submit your labs as many times as you want before the deadline, so please submit often and early.\n",
    "\n",
    "**TAs**: Andrew Jung\n",
    "\n",
    "This lab is partially based on an assignment developed by Prof. Jonathan Rose and Harris Chan.\n",
    "\n",
    "This lab is a warm up to get you used to the PyTorch programming environment used\n",
    "in the course, and also to help you review and renew your knowledge\n",
    "of Python and relevant Python libraries.\n",
    "The lab must be done individually. Please recall that the\n",
    "University of Toronto plagarism rules apply.\n",
    "\n",
    "By the end of this lab, you should be able to:\n",
    "\n",
    "1. Be able to perform basic PyTorch tensor operations.\n",
    "2. Be able to load data into PyTorch\n",
    "3. Be able to configure an Artificial Neural Network (ANN) using PyTorch\n",
    "4. Be able to train ANNs using PyTorch\n",
    "5. Be able to evaluate different ANN configuations\n",
    "\n",
    "You will need to use numpy and PyTorch documentations for this assignment:\n",
    "\n",
    "* https://docs.scipy.org/doc/numpy/reference/\n",
    "* https://pytorch.org/docs/stable/torch.html\n",
    "\n",
    "You can also reference Python API documentations freely.\n",
    "\n",
    "\n",
    "### What to submit\n",
    "\n",
    "Submit a PDF file containing all your code, outputs, and write-up\n",
    "from parts 1-5. You can produce a PDF of your Google Colab file by\n",
    "going to **File > Print** and then save as PDF. The Colab instructions\n",
    "has more information.\n",
    "\n",
    "**Do not submit any other files produced by your code.**\n",
    "\n",
    "Include a link to your colab file in your submission.\n",
    "\n",
    "Please use Google Colab to complete this assignment. If you want to use Jupyter Notebook, please complete the assignment and upload your Jupyter Notebook file to Google Colab for submission. \n",
    "\n",
    "With Colab, you can export a PDF file using the menu option\n",
    "`File -> Print` and save as PDF file."
   ]
  },
  {
   "cell_type": "markdown",
   "metadata": {
    "colab_type": "text",
    "id": "_TlLBrWBIGt0"
   },
   "source": [
    "## Colab Link\n",
    "\n",
    "Submit make sure to include a link to your colab file here\n",
    "\n",
    "Colab Link: "
   ]
  },
  {
   "cell_type": "markdown",
   "metadata": {
    "colab_type": "text",
    "id": "mALD3Y2bbzGT"
   },
   "source": [
    "## Part 1. Python Basics [9 pt]\n",
    "\n",
    "The purpose of this section is to get you used to the \n",
    "basics of Python, including working with functions, numbers,\n",
    "lists, and strings.\n",
    "\n",
    "Note that we **will** be checking your code for clarity and efficiency.\n",
    "\n",
    "If you have trouble with this part of the assignment, please review http://cs231n.github.io/python-numpy-tutorial/"
   ]
  },
  {
   "cell_type": "markdown",
   "metadata": {
    "colab_type": "text",
    "id": "7gimRTE9bzGa"
   },
   "source": [
    "### Part (a) -- 3pt\n",
    "\n",
    "Write a function `sum_of_cubes` that computes the sum of cubes up to `n`. If the input to `sum_of_cubes` invalid (e.g. negative or non-integer `n`), the function should print out `\"Invalid input\"` and return `-1`."
   ]
  },
  {
   "cell_type": "code",
   "execution_count": 52,
   "metadata": {
    "colab": {},
    "colab_type": "code",
    "id": "fifG_Wv6bzGf"
   },
   "outputs": [],
   "source": [
    "def sum_of_cubes(n):\n",
    "    \"\"\"Return the sum (1^3 + 2^3 + 3^3 + ... + n^3)\n",
    "    \n",
    "    Precondition: n > 0, type(n) == int\n",
    "    \n",
    "    >>> sum_of_cubes(3)\n",
    "    36\n",
    "    >>> sum_of_cubes(1)\n",
    "    1\n",
    "    \"\"\"\n",
    "    if n<=0 or n%1 != 0:\n",
    "        return -1\n",
    "    else:\n",
    "        sum = 0\n",
    "        for i in range(1,n+1):\n",
    "            sum+=i**3\n",
    "        return sum"
   ]
  },
  {
   "cell_type": "markdown",
   "metadata": {
    "colab_type": "text",
    "id": "bOxDP8AlbzG2"
   },
   "source": [
    "### Part (b) -- 3pt\n",
    "\n",
    "Write a function `word_lengths` that takes a sentence (string), computes the length of each word in that sentence, and returns the length of each word in a list. You can\n",
    "assume that words are always separated by a space character `\" \"`.\n",
    "\n",
    "Hint: recall the `str.split` function in Python.\n",
    "If you arenot sure how this function works, try\n",
    "typing `help(str.split)` into a Python shell, or check out https://docs.python.org/3.6/library/stdtypes.html#str.split"
   ]
  },
  {
   "cell_type": "code",
   "execution_count": 53,
   "metadata": {
    "colab": {},
    "colab_type": "code",
    "id": "H84jlGrVbzG5"
   },
   "outputs": [
    {
     "name": "stdout",
     "output_type": "stream",
     "text": [
      "Help on method_descriptor:\n",
      "\n",
      "split(...)\n",
      "    S.split(sep=None, maxsplit=-1) -> list of strings\n",
      "    \n",
      "    Return a list of the words in S, using sep as the\n",
      "    delimiter string.  If maxsplit is given, at most maxsplit\n",
      "    splits are done. If sep is not specified or is None, any\n",
      "    whitespace string is a separator and empty strings are\n",
      "    removed from the result.\n",
      "\n"
     ]
    }
   ],
   "source": [
    "help(str.split)"
   ]
  },
  {
   "cell_type": "code",
   "execution_count": 54,
   "metadata": {
    "colab": {},
    "colab_type": "code",
    "id": "w1lbnwgsbzHG"
   },
   "outputs": [],
   "source": [
    "def word_lengths(sentence):\n",
    "    \"\"\"Return a list containing the length of each word in\n",
    "    sentence.\n",
    "    \n",
    "    >>> word_lengths(\"welcome to APS360!\")\n",
    "    [7, 2, 7]\n",
    "    >>> word_lengths(\"machine learning is so cool\")\n",
    "    [7, 8, 2, 2, 4]\n",
    "    \"\"\"\n",
    "    words = sentence.split(' ')\n",
    "    lengths = []\n",
    "    for word in words:\n",
    "        lengths.append(len(word))\n",
    "    return lengths"
   ]
  },
  {
   "cell_type": "markdown",
   "metadata": {
    "colab_type": "text",
    "id": "iCsnzu4NIGuD"
   },
   "source": [
    "### Part (c) -- 3pt\n",
    "\n",
    "Write a function `all_same_length` that takes a sentence (string),\n",
    "and checks whether every word in the string is the same length.\n",
    "You should call the function `word_lengths` in the body\n",
    "of this new function.\n"
   ]
  },
  {
   "cell_type": "code",
   "execution_count": 55,
   "metadata": {
    "colab": {},
    "colab_type": "code",
    "id": "Z-7qytZEIGuE"
   },
   "outputs": [],
   "source": [
    "def all_same_length(sentence):\n",
    "    \"\"\"Return True if every word in sentence has the same\n",
    "    length, and False otherwise.\n",
    "    \n",
    "    >>> all_same_length(\"all same length\")\n",
    "    False\n",
    "    >>> word_lengths(\"hello world\")\n",
    "    True\n",
    "    \"\"\"\n",
    "    lengths = word_lengths(sentence)\n",
    "    standard = lengths[0]\n",
    "    for i in lengths:\n",
    "        if i != standard:\n",
    "            return False\n",
    "    return True"
   ]
  },
  {
   "cell_type": "markdown",
   "metadata": {
    "colab_type": "text",
    "id": "yUh1MySTbzHT"
   },
   "source": [
    "## Part 2. NumPy Exercises [11 pt]\n",
    "\n",
    "In this part of the assignment, you'll be manipulating arrays \n",
    "usign NumPy. Normally, we use the shorter name `np` to represent\n",
    "the package `numpy`."
   ]
  },
  {
   "cell_type": "code",
   "execution_count": 56,
   "metadata": {
    "colab": {},
    "colab_type": "code",
    "id": "H2opcxqMbzHW"
   },
   "outputs": [],
   "source": [
    "import numpy as np"
   ]
  },
  {
   "cell_type": "markdown",
   "metadata": {
    "colab_type": "text",
    "id": "Ek29jdqPbzHf"
   },
   "source": [
    "### Part (a) -- 2pt\n",
    "\n",
    "The below variables `matrix` and `vector` are numpy arrays. Explain what you think `<NumpyArray>.size` and `<NumpyArray>.shape` represent."
   ]
  },
  {
   "cell_type": "code",
   "execution_count": 57,
   "metadata": {
    "colab": {},
    "colab_type": "code",
    "id": "Z6eniOV2bzHi"
   },
   "outputs": [],
   "source": [
    "matrix = np.array([[1., 2., 3., 0.5],\n",
    "                   [4., 5., 0., 0.],\n",
    "                   [-1., -2., 1., 1.]])\n",
    "vector = np.array([2., 0., 1., -2.])"
   ]
  },
  {
   "cell_type": "code",
   "execution_count": 58,
   "metadata": {
    "colab": {},
    "colab_type": "code",
    "id": "JMIy15dKIGuP"
   },
   "outputs": [
    {
     "data": {
      "text/plain": [
       "12"
      ]
     },
     "execution_count": 58,
     "metadata": {},
     "output_type": "execute_result"
    }
   ],
   "source": [
    "matrix.size # matrix.size - calculates the number of entries in the matrix"
   ]
  },
  {
   "cell_type": "code",
   "execution_count": 59,
   "metadata": {
    "colab": {},
    "colab_type": "code",
    "id": "QoHaPzDNbzHo",
    "scrolled": true
   },
   "outputs": [
    {
     "data": {
      "text/plain": [
       "(3, 4)"
      ]
     },
     "execution_count": 59,
     "metadata": {},
     "output_type": "execute_result"
    }
   ],
   "source": [
    "matrix.shape # matrix.shape - returns the dimensions of the matrix"
   ]
  },
  {
   "cell_type": "code",
   "execution_count": 60,
   "metadata": {
    "colab": {},
    "colab_type": "code",
    "id": "dErt6w25bzHu"
   },
   "outputs": [
    {
     "data": {
      "text/plain": [
       "4"
      ]
     },
     "execution_count": 60,
     "metadata": {},
     "output_type": "execute_result"
    }
   ],
   "source": [
    "vector.size # vector.size - returns the number of entries in the vector"
   ]
  },
  {
   "cell_type": "code",
   "execution_count": 61,
   "metadata": {
    "colab": {},
    "colab_type": "code",
    "id": "TXhHCchIIGua"
   },
   "outputs": [
    {
     "data": {
      "text/plain": [
       "(4,)"
      ]
     },
     "execution_count": 61,
     "metadata": {},
     "output_type": "execute_result"
    }
   ],
   "source": [
    "vector.shape # vector.shape - returns the dimensions of the array"
   ]
  },
  {
   "cell_type": "markdown",
   "metadata": {
    "colab_type": "text",
    "id": "9PQ-pRIlbzH8"
   },
   "source": [
    "### Part (c) -- 3pt\n",
    "\n",
    "Perform matrix multiplication `output = matrix x vector` by using\n",
    "for loops to iterate through the columns and rows.\n",
    "Do not use any builtin NumPy functions.\n",
    "Cast your output into a NumPy array, if it isn't one already.\n",
    "\n",
    "Hint: be mindful of the dimension of output"
   ]
  },
  {
   "cell_type": "code",
   "execution_count": 62,
   "metadata": {
    "colab": {},
    "colab_type": "code",
    "id": "SXnZFii2bzH-"
   },
   "outputs": [],
   "source": [
    "output = None\n",
    "dotprod = 0\n",
    "output = np.array([])\n",
    "for row in matrix:\n",
    "    for item_index in range(len(row)):\n",
    "        dotprod += row[item_index]*vector[item_index]\n",
    "    output = np.append(output, [dotprod])\n",
    "    dotprod = 0"
   ]
  },
  {
   "cell_type": "code",
   "execution_count": 63,
   "metadata": {
    "colab": {},
    "colab_type": "code",
    "id": "BiIVqVvvbzII"
   },
   "outputs": [
    {
     "data": {
      "text/plain": [
       "array([ 4.,  8., -3.])"
      ]
     },
     "execution_count": 63,
     "metadata": {},
     "output_type": "execute_result"
    }
   ],
   "source": [
    "output"
   ]
  },
  {
   "cell_type": "markdown",
   "metadata": {
    "colab_type": "text",
    "id": "O5UhbilNbzIP"
   },
   "source": [
    "### Part (d) -- 1pt\n",
    "\n",
    "Perform matrix multiplication `output2 = matrix x vector` by using\n",
    "the function `numpy.dot`.\n",
    "\n",
    "We will never actually write code as in\n",
    "part(c), not only because `numpy.dot` is more concise and easier to read/write, but also performance-wise `numpy.dot` is much faster (it is written in C and highly optimized).\n",
    "In general, we will avoid for loops in our code."
   ]
  },
  {
   "cell_type": "code",
   "execution_count": 64,
   "metadata": {
    "colab": {},
    "colab_type": "code",
    "id": "e8dLVrMEbzIR"
   },
   "outputs": [],
   "source": [
    "output2 = None\n",
    "output2 = np.dot(matrix, vector)"
   ]
  },
  {
   "cell_type": "code",
   "execution_count": 65,
   "metadata": {
    "colab": {},
    "colab_type": "code",
    "id": "X1LqY1eKbzIV"
   },
   "outputs": [
    {
     "data": {
      "text/plain": [
       "array([ 4.,  8., -3.])"
      ]
     },
     "execution_count": 65,
     "metadata": {},
     "output_type": "execute_result"
    }
   ],
   "source": [
    "output2"
   ]
  },
  {
   "cell_type": "markdown",
   "metadata": {
    "colab_type": "text",
    "id": "77XioX6vbzIb"
   },
   "source": [
    "### Part (e) -- 2pt\n",
    "\n",
    "As a way to test for consistency, show that the two outputs match."
   ]
  },
  {
   "cell_type": "code",
   "execution_count": 66,
   "metadata": {
    "colab": {},
    "colab_type": "code",
    "id": "1Vc-Nvf0bzIc"
   },
   "outputs": [
    {
     "name": "stdout",
     "output_type": "stream",
     "text": [
      "True\n"
     ]
    }
   ],
   "source": [
    "print(np.array_equal(output,output2))"
   ]
  },
  {
   "cell_type": "markdown",
   "metadata": {
    "colab_type": "text",
    "id": "wjEGmk8oIGur"
   },
   "source": [
    "### Part (f) -- 3pt\n",
    "\n",
    "Show that using `np.dot` is faster than using your code from part (c).\n",
    "\n",
    "You may find the below code snippit helpful:"
   ]
  },
  {
   "cell_type": "code",
   "execution_count": 67,
   "metadata": {
    "colab": {},
    "colab_type": "code",
    "id": "XlnE0XO8IGur"
   },
   "outputs": [
    {
     "data": {
      "text/plain": [
       "-0.1352241039276123"
      ]
     },
     "execution_count": 67,
     "metadata": {},
     "output_type": "execute_result"
    }
   ],
   "source": [
    "import time\n",
    "# record the time before running code\n",
    "start_time = time.time()\n",
    "# place code to run here\n",
    "for i in range(1000):\n",
    "    dotprod = 0\n",
    "    output = np.array([])\n",
    "    for row in matrix:\n",
    "        for item_index in range(len(row)):\n",
    "            dotprod += row[item_index]*vector[item_index]\n",
    "        output = np.append(output, [dotprod])\n",
    "        dotprod = 0\n",
    "# record the time after the code is run\n",
    "end_time = time.time()\n",
    "# compute the difference\n",
    "diff1 = end_time - start_time\n",
    "diff1\n",
    "\n",
    "# record the time before running code\n",
    "start_time = time.time()\n",
    "# place code to run here\n",
    "for i in range(1000):\n",
    "    output2 = np.dot(matrix, vector)\n",
    "# record the time after the code is run\n",
    "end_time = time.time()\n",
    "# compute the difference\n",
    "diff2 = end_time - start_time\n",
    "\n",
    "# compare first and second run times\n",
    "diff2-diff1\n",
    "\n"
   ]
  },
  {
   "cell_type": "markdown",
   "metadata": {
    "colab": {},
    "colab_type": "code",
    "id": "0aBOgCJeIGuv"
   },
   "source": [
    "A negative result means that diff2<diff1. In other words the manual dot product takes more time."
   ]
  },
  {
   "cell_type": "markdown",
   "metadata": {
    "colab_type": "text",
    "id": "LbKJjoHHbzI4"
   },
   "source": [
    "## Part 3. Images [7 pt]\n",
    "\n",
    "A picture or image can be represented as a NumPy array of “pixels”, \n",
    "with dimensions H × W × C, where H is the height of the image, W is the width of the image,\n",
    "and C is the number of colour channels. Typically we will use an image with channels that give the the Red, Green, and Blue “level” of each pixel, which is referred to with the short form RGB.\n",
    "\n",
    "You will write Python code to load an image, and perform several array manipulations to the image and visualize their effects. "
   ]
  },
  {
   "cell_type": "code",
   "execution_count": 68,
   "metadata": {
    "colab": {},
    "colab_type": "code",
    "id": "FRGQKpEgbzI4"
   },
   "outputs": [],
   "source": [
    "import matplotlib.pyplot as plt"
   ]
  },
  {
   "cell_type": "markdown",
   "metadata": {
    "colab_type": "text",
    "id": "p1D5mtCubzI6"
   },
   "source": [
    "### Part (a) -- 1 pt\n",
    "\n",
    "This is a photograph of a dog whose name is Mochi.\n",
    "\n",
    "![alt text](https://drive.google.com/uc?export=view&id=1oaLVR2hr1_qzpKQ47i9rVUIklwbDcews)\n",
    "\n",
    "Load the image from its url (https://drive.google.com/uc?export=view&id=1oaLVR2hr1_qzpKQ47i9rVUIklwbDcews) into the variable `img` using the `plt.imread` function.\n",
    "\n",
    "Hint: You can enter the URL directly into the `plt.imread` function as a Python string."
   ]
  },
  {
   "cell_type": "code",
   "execution_count": 69,
   "metadata": {
    "colab": {},
    "colab_type": "code",
    "id": "RB8lf73vbzI7"
   },
   "outputs": [],
   "source": [
    "img = None\n",
    "img = plt.imread('C:\\\\Users\\\\jimmy\\\\PycharmProjects\\\\APSLab1\\\\dog_mochi.png')"
   ]
  },
  {
   "cell_type": "markdown",
   "metadata": {
    "colab_type": "text",
    "id": "mNli5OsbbzI9"
   },
   "source": [
    "### Part (b) -- 1pt\n",
    "\n",
    "Use the function `plt.imshow` to visualize `img`. \n",
    "\n",
    "This function will also show the coordinate system used to identify pixels.\n",
    "The origin is at the top left corner, and the first dimension indicates the Y (row) direction, \n",
    "and the second dimension indicates the X (column) dimension."
   ]
  },
  {
   "cell_type": "code",
   "execution_count": 70,
   "metadata": {
    "colab": {},
    "colab_type": "code",
    "id": "lEeHKc_abzI9",
    "scrolled": false
   },
   "outputs": [
    {
     "data": {
      "text/plain": [
       "<matplotlib.image.AxesImage at 0x22b0c848390>"
      ]
     },
     "execution_count": 70,
     "metadata": {},
     "output_type": "execute_result"
    },
    {
     "data": {
      "image/png": "[encoded data removed]",
      "text/plain": [
       "<Figure size 432x288 with 1 Axes>"
      ]
     },
     "metadata": {},
     "output_type": "display_data"
    }
   ],
   "source": [
    "plt.imshow(img)"
   ]
  },
  {
   "cell_type": "markdown",
   "metadata": {
    "colab_type": "text",
    "id": "pB-Hx-OFbzJC"
   },
   "source": [
    "### Part (c) -- 2pt\n",
    "\n",
    "Modify the image by adding a constant value of 0.25 to each pixel in the `img` and\n",
    "store the result in the variable `img_add`. Note that, since the range for the pixels \n",
    "needs to be between [0, 1], you will also need to clip img_add to be in the range [0, 1] \n",
    "using `numpy.clip`. Clipping sets any value that is outside of the desired range to the \n",
    "closest endpoint. Display the image using `plt.imshow`."
   ]
  },
  {
   "cell_type": "code",
   "execution_count": 71,
   "metadata": {
    "colab": {},
    "colab_type": "code",
    "id": "GWBhZay2bzJC"
   },
   "outputs": [
    {
     "data": {
      "text/plain": [
       "<matplotlib.image.AxesImage at 0x22b0cc248d0>"
      ]
     },
     "execution_count": 71,
     "metadata": {},
     "output_type": "execute_result"
    },
    {
     "data": {
      "image/png": "[encoded data removed]",
      "text/plain": [
       "<Figure size 432x288 with 1 Axes>"
      ]
     },
     "metadata": {},
     "output_type": "display_data"
    }
   ],
   "source": [
    "img_add = None\n",
    "img_add = np.clip(img+0.25,0,1)\n",
    "plt.imshow(img_add)"
   ]
  },
  {
   "cell_type": "markdown",
   "metadata": {
    "colab_type": "text",
    "id": "DeinKXBCbzJI"
   },
   "source": [
    "### Part (d) -- 3pt\n",
    "\n",
    "Crop the **original** image (`img` variable) to a 130 x 150 image including Mochi's face. Discard the alpha colour channel (i.e. resulting `img_cropped` should **only have RGB channels**)\n",
    "\n",
    "Display the image."
   ]
  },
  {
   "cell_type": "code",
   "execution_count": 72,
   "metadata": {},
   "outputs": [
    {
     "data": {
      "text/plain": [
       "<matplotlib.image.AxesImage at 0x22b08567080>"
      ]
     },
     "execution_count": 72,
     "metadata": {},
     "output_type": "execute_result"
    },
    {
     "data": {
      "image/png": "[encoded data removed]",
      "text/plain": [
       "<Figure size 432x288 with 1 Axes>"
      ]
     },
     "metadata": {},
     "output_type": "display_data"
    }
   ],
   "source": [
    "img_cropped = img[0:130,0:150,:3]\n",
    "plt.imshow(img_cropped)"
   ]
  },
  {
   "cell_type": "markdown",
   "metadata": {
    "colab_type": "text",
    "id": "FmfE9CQdIGva"
   },
   "source": [
    "## Part 4. Basics of PyTorch [12 pt]\n",
    "\n",
    "PyTorch is a Python-based neural networks package. Along with tensorflow, PyTorch is currently one of the most popular machine learning libraries.\n",
    "\n",
    "PyTorch, at its core, is similar to Numpy in a sense that they both \n",
    "try to make it easier to write codes for scientific computing\n",
    "achieve improved performance over vanilla Python by leveraging highly optimized C back-end.\n",
    "However, compare to Numpy, PyTorch offers much better GPU support and provides many high-level features for machine learning. Technically, Numpy can be used to perform almost every thing PyTorch does. However, Numpy would be a lot slower than PyTorch, especially with CUDA GPU, and it would take more effort to write machine learning related code compared to using PyTorch."
   ]
  },
  {
   "cell_type": "code",
   "execution_count": 73,
   "metadata": {
    "colab": {},
    "colab_type": "code",
    "id": "ppRPK-X2IGvb"
   },
   "outputs": [],
   "source": [
    "import torch"
   ]
  },
  {
   "cell_type": "markdown",
   "metadata": {
    "colab_type": "text",
    "id": "DXrczIrSIGvf"
   },
   "source": [
    "### Part (a) -- 1 pt\n",
    "\n",
    "Use the function `torch.from_numpy` to convert the numpy array `img_cropped` into\n",
    "a PyTorch tensor. Save the result in a variable called `img_torch`."
   ]
  },
  {
   "cell_type": "code",
   "execution_count": 74,
   "metadata": {
    "colab": {},
    "colab_type": "code",
    "id": "j9rYyf4gIGvj"
   },
   "outputs": [],
   "source": [
    "img_torch = None\n",
    "img_torch = torch.from_numpy(img_cropped)"
   ]
  },
  {
   "cell_type": "markdown",
   "metadata": {
    "colab_type": "text",
    "id": "zrpPeRKtIGvn"
   },
   "source": [
    "### Part (b) -- 1pt\n",
    "\n",
    "Use the method `<Tensor>.shape` to find the shape (dimension and size) of `img_torch`."
   ]
  },
  {
   "cell_type": "code",
   "execution_count": 75,
   "metadata": {
    "colab": {},
    "colab_type": "code",
    "id": "ws7G_aaxIGvn"
   },
   "outputs": [
    {
     "data": {
      "text/plain": [
       "torch.Size([130, 150, 3])"
      ]
     },
     "execution_count": 75,
     "metadata": {},
     "output_type": "execute_result"
    }
   ],
   "source": [
    "img_torch.shape"
   ]
  },
  {
   "cell_type": "markdown",
   "metadata": {
    "colab_type": "text",
    "id": "uorV8t1pIGvp"
   },
   "source": [
    "### Part (c) -- 1pt\n",
    "\n",
    "How many floating-point numbers are stored in the tensor `img_torch`?"
   ]
  },
  {
   "cell_type": "markdown",
   "metadata": {
    "colab": {},
    "colab_type": "code",
    "id": "sucaE_VCIGvq"
   },
   "source": [
    "The number of floating point numbres = 130*150*3 = 58500 floating point numbers stored"
   ]
  },
  {
   "cell_type": "markdown",
   "metadata": {
    "colab_type": "text",
    "id": "sIcXGdg5IGvu"
   },
   "source": [
    "### Part (d) -- 3 pt\n",
    "\n",
    "What does the code `img_torch.transpose(0,2)` do? What does the expression return? \n",
    "Is the original variable `img_torch` updated? Explain."
   ]
  },
  {
   "cell_type": "markdown",
   "metadata": {
    "colab": {},
    "colab_type": "code",
    "id": "omOJqIhEIGvu"
   },
   "source": [
    "It transposes dimensions 0 and 2 in the tensor. it returns another tensor without updating the original tensor."
   ]
  },
  {
   "cell_type": "markdown",
   "metadata": {
    "colab_type": "text",
    "id": "lHrzC0EqIGvx"
   },
   "source": [
    "### Part (e) -- 3 pt\n",
    "\n",
    "What does the code `img_torch.unsqueeze(0)` do? What does the expression return? \n",
    "Is the original variable `img_torch` updated? Explain."
   ]
  },
  {
   "cell_type": "markdown",
   "metadata": {
    "colab": {},
    "colab_type": "code",
    "id": "ZFePj7E5IGvz"
   },
   "source": [
    "It adds another dimension to img_torch tensor, giving position 0 to the current tensor. does not update img_torch"
   ]
  },
  {
   "cell_type": "markdown",
   "metadata": {
    "colab_type": "text",
    "id": "re16jTB9IGv0"
   },
   "source": [
    "### Part (f) -- 3 pt\n",
    "\n",
    "Find the maximum value of `img_torch` along each colour channel? Your output should be a one-dimensional\n",
    "PyTorch tensor with exactly three values.\n",
    "\n",
    "Hint: lookup the function `torch.max`."
   ]
  },
  {
   "cell_type": "code",
   "execution_count": 76,
   "metadata": {},
   "outputs": [
    {
     "data": {
      "text/plain": [
       "tensor(0.8941)"
      ]
     },
     "execution_count": 76,
     "metadata": {},
     "output_type": "execute_result"
    }
   ],
   "source": [
    "torch.max(img_torch[:,:,0]) # R"
   ]
  },
  {
   "cell_type": "code",
   "execution_count": 77,
   "metadata": {},
   "outputs": [
    {
     "data": {
      "text/plain": [
       "tensor(0.7882)"
      ]
     },
     "execution_count": 77,
     "metadata": {},
     "output_type": "execute_result"
    }
   ],
   "source": [
    "torch.max(img_torch[:,:,1]) # G"
   ]
  },
  {
   "cell_type": "code",
   "execution_count": 78,
   "metadata": {},
   "outputs": [
    {
     "data": {
      "text/plain": [
       "tensor(0.6745)"
      ]
     },
     "execution_count": 78,
     "metadata": {},
     "output_type": "execute_result"
    }
   ],
   "source": [
    "torch.max(img_torch[:,:,2]) # B"
   ]
  },
  {
   "cell_type": "markdown",
   "metadata": {
    "colab_type": "text",
    "id": "3hhA2sX0au0D"
   },
   "source": [
    "## Part 5. Training an ANN [11 pt]\n",
    "\n",
    "The sample code provided below is a 2-layer ANN trained on the MNIST dataset to identify digits less than 3 or greater than and equal to 3. Modify the code by changing any of the following:\n",
    "\n",
    "- number of training iterations\n",
    "- number of hidden units\n",
    "- numbers of layers\n",
    "- types of activation functions\n",
    "- learning rate\n",
    "\n",
    "\n",
    "### Part (a) -- 5 pt\n",
    "What is the best perforamce that you were able to obtain and how did you obtain it? Please provide your code below."
   ]
  },
  {
   "cell_type": "code",
   "execution_count": 79,
   "metadata": {
    "colab": {},
    "colab_type": "code",
    "id": "GGtthiz1tDh5"
   },
   "outputs": [
    {
     "name": "stdout",
     "output_type": "stream",
     "text": [
      "Training Error Rate: 0.03\n",
      "Training Accuracy: 0.97\n",
      "Test Error Rate: 0.05125\n",
      "Test Accuracy: 0.94875\n"
     ]
    }
   ],
   "source": [
    "import torch\n",
    "import torch.nn as nn\n",
    "import torch.nn.functional as F\n",
    "from torchvision import datasets, transforms\n",
    "import matplotlib.pyplot as plt # for plotting\n",
    "import torch.optim as optim\n",
    "\n",
    "torch.manual_seed(1) # set the random seed\n",
    "\n",
    "# define a 2-layer artificial neural network\n",
    "class Pigeon(nn.Module):\n",
    "    def __init__(self):\n",
    "        super(Pigeon, self).__init__()\n",
    "        self.layer1 = nn.Linear(28 * 28, 390) # hidden layer\n",
    "        self.layer2 = nn.Linear(390, 1) # output layer\n",
    "    def forward(self, img):\n",
    "        flattened = img.view(-1, 28 * 28)\n",
    "        activation1 = self.layer1(flattened)\n",
    "        activation1 = F.relu(activation1)\n",
    "        activation2 = self.layer2(activation1) # output of activation 1 to activation 2, forward process\n",
    "        return activation2\n",
    "\n",
    "pigeon = Pigeon()\n",
    "\n",
    "# load the data\n",
    "mnist_data = datasets.MNIST('data', train=True, download=True)\n",
    "mnist_data = list(mnist_data)\n",
    "mnist_train = mnist_data[:1200]\n",
    "mnist_val   = mnist_data[1200:2000]\n",
    "img_to_tensor = transforms.ToTensor()\n",
    "      \n",
    "    \n",
    "# simplified training code to train `pigeon` on the \"small digit recognition\" task\n",
    "criterion = nn.BCEWithLogitsLoss()\n",
    "optimizer = optim.SGD(pigeon.parameters(), lr=0.01, momentum=0.9)\n",
    "\n",
    "for (image, label) in mnist_train:\n",
    "    # actual ground truth: is the digit less than 3?\n",
    "    actual = torch.tensor(label < 3).reshape([1,1]).type(torch.FloatTensor)\n",
    "    # pigeon prediction\n",
    "    out = pigeon(img_to_tensor(image)) # step 1-2\n",
    "    # update the parameters based on the loss\n",
    "    loss = criterion(out, actual)      # step 3\n",
    "    loss.backward()                    # step 4 (compute the updates for each parameter)\n",
    "    optimizer.step()                   # step 4 (make the updates for each parameter)\n",
    "    optimizer.zero_grad()              # a clean up step for PyTorch\n",
    "\n",
    "# computing the error and accuracy on the training set\n",
    "error = 0\n",
    "for (image, label) in mnist_train:\n",
    "    prob = torch.sigmoid(pigeon(img_to_tensor(image)))\n",
    "    if (prob < 0.5 and label < 3) or (prob >= 0.5 and label >= 3):\n",
    "        error += 1\n",
    "print(\"Training Error Rate:\", error/len(mnist_train))\n",
    "print(\"Training Accuracy:\", 1 - error/len(mnist_train))\n",
    "\n",
    "\n",
    "# computing the error and accuracy on a test set\n",
    "error = 0\n",
    "for (image, label) in mnist_val:\n",
    "    prob = torch.sigmoid(pigeon(img_to_tensor(image)))\n",
    "    if (prob < 0.5 and label < 3) or (prob >= 0.5 and label >= 3):\n",
    "        error += 1\n",
    "print(\"Test Error Rate:\", error/len(mnist_val))\n",
    "print(\"Test Accuracy:\", 1 - error/len(mnist_val))"
   ]
  },
  {
   "cell_type": "markdown",
   "metadata": {},
   "source": [
    "I tested various aspects such as different activation functions (sigmoid, ReLU, leaky ReLU), different amounts of input training data (1200, 1500, 1700), different number of hidden units (390, 400), and different learning rates (0.02, 0.01, 0.0005). I did not change the number of hidden layers since it was stated in class that normally two layers is enough and that having more complexity is not necessarily good (Occam's Razor). In the end, the combination of ReLU activation function, 390 hidden units, 0.01 learning rate, and 1200 pieces of training data produced the best results, with nearly 95% test accuracy."
   ]
  },
  {
   "cell_type": "markdown",
   "metadata": {
    "colab_type": "text",
    "id": "viYKlFupcgF3"
   },
   "source": [
    "### Part (b) -- 3 pt\n",
    "\n",
    "Comment on which of the above changes resulted in the best accuracy on training data?"
   ]
  },
  {
   "cell_type": "markdown",
   "metadata": {
    "colab": {},
    "colab_type": "code",
    "id": "FMgRXRqiqAEx"
   },
   "source": [
    "Increasing the number of hidden units to 390 resulted in the best accuracy on training data (0.976) since this increases the number of neurons which could form connections and generate more accurate predictions."
   ]
  },
  {
   "cell_type": "markdown",
   "metadata": {
    "colab_type": "text",
    "id": "pi6bWs7jcIem"
   },
   "source": [
    "### Part (c) -- 3 pt\n",
    "\n",
    "\n",
    "Comment on which of the above changes resulted in the best accuracy on testing data?"
   ]
  },
  {
   "cell_type": "markdown",
   "metadata": {
    "colab": {},
    "colab_type": "code",
    "id": "QtyIrtuNqAh0"
   },
   "source": [
    "Changing the partition of the training data and testing data had the most significant effect on the accuracy of the data. I had partitioned more training data for the neural network, resulting in a 2% increase in accuracy. More training data means more data for the neural network to learn from and this would improve the accuracy of predictions on testing data significantly."
   ]
  }
 ],
 "metadata": {
  "colab": {
   "collapsed_sections": [
    "O5UhbilNbzIP",
    "77XioX6vbzIb"
   ],
   "name": "Lab 1 - PyTorch and ANNs.ipynb",
   "provenance": [],
   "version": "0.3.2"
  },
  "kernelspec": {
   "display_name": "Python 3",
   "language": "python",
   "name": "python3"
  },
  "language_info": {
   "codemirror_mode": {
    "name": "ipython",
    "version": 3
   },
   "file_extension": ".py",
   "mimetype": "text/x-python",
   "name": "python",
   "nbconvert_exporter": "python",
   "pygments_lexer": "ipython3",
   "version": "3.6.5"
  }
 },
 "nbformat": 4,
 "nbformat_minor": 1
}
